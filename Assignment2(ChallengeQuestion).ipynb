{
  "nbformat": 4,
  "nbformat_minor": 0,
  "metadata": {
    "colab": {
      "provenance": [],
      "authorship_tag": "ABX9TyO1GVoNH6cr317ZTbnWAtLY",
      "include_colab_link": true
    },
    "kernelspec": {
      "name": "python3",
      "display_name": "Python 3"
    },
    "language_info": {
      "name": "python"
    }
  },
  "cells": [
    {
      "cell_type": "markdown",
      "metadata": {
        "id": "view-in-github",
        "colab_type": "text"
      },
      "source": [
        "<a href=\"https://colab.research.google.com/github/Ishnaman24/Assignment2-ChallengeQues/blob/main/Assignment2(ChallengeQuestion).ipynb\" target=\"_parent\"><img src=\"https://colab.research.google.com/assets/colab-badge.svg\" alt=\"Open In Colab\"/></a>"
      ]
    },
    {
      "cell_type": "code",
      "execution_count": 6,
      "metadata": {
        "colab": {
          "base_uri": "https://localhost:8080/"
        },
        "id": "OLO1HipwzYZV",
        "outputId": "4193a5ea-62e7-4a92-fc4f-a58864856936"
      },
      "outputs": [
        {
          "output_type": "stream",
          "name": "stdout",
          "text": [
            "['Ram', 1, 'Shyam', 2, 'Aman', 3]\n",
            "['Aman', 'Ram', 'Shyam', 1, 2, 3]\n"
          ]
        }
      ],
      "source": [
        "from types import LambdaType\n",
        "L=[\"Ram\",1,\"Shyam\",2,\"Aman\",3]\n",
        "print(L)\n",
        "newList = sorted(L, key = lambda x : (isinstance(x,int), x))\n",
        "print(newList)"
      ]
    }
  ]
}